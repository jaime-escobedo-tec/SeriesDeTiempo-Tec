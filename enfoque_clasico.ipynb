{
  "nbformat": 4,
  "nbformat_minor": 0,
  "metadata": {
    "colab": {
      "provenance": [],
      "authorship_tag": "ABX9TyP0FqJBKIclyBmrxMZacHeB",
      "include_colab_link": true
    },
    "kernelspec": {
      "name": "python3",
      "display_name": "Python 3"
    },
    "language_info": {
      "name": "python"
    }
  },
  "cells": [
    {
      "cell_type": "markdown",
      "metadata": {
        "id": "view-in-github",
        "colab_type": "text"
      },
      "source": [
        "<a href=\"https://colab.research.google.com/github/jaime-escobedo-tec/SeriesDeTiempo-Tec/blob/main/enfoque_clasico.ipynb\" target=\"_parent\"><img src=\"https://colab.research.google.com/assets/colab-badge.svg\" alt=\"Open In Colab\"/></a>"
      ]
    },
    {
      "cell_type": "markdown",
      "source": [
        "# Series de Tiempo\n",
        "##\n",
        "###"
      ],
      "metadata": {
        "id": "NUL42pWU4o_8"
      }
    },
    {
      "cell_type": "code",
      "execution_count": 1,
      "metadata": {
        "id": "bV98qJgj4iQi"
      },
      "outputs": [],
      "source": [
        "import numpy as np\n",
        "import pandas as pd\n",
        "import datetime\n",
        "import matplotlib.pyplot as plt"
      ]
    },
    {
      "cell_type": "code",
      "source": [
        "from statsmodels.tsa.seasonal import seasonal_decompose"
      ],
      "metadata": {
        "id": "6aePG8JQ4zzC"
      },
      "execution_count": 2,
      "outputs": []
    },
    {
      "cell_type": "code",
      "source": [
        "pasajeros = pd.read_csv('https://raw.githubusercontent.com/jaime-escobedo-tec/SeriesDeTiempo-Tec/main/airline_passengers.csv',index_col='Month',parse_dates=True)"
      ],
      "metadata": {
        "id": "BoQijpYr5Gv7"
      },
      "execution_count": 5,
      "outputs": []
    },
    {
      "cell_type": "code",
      "source": [
        "pasajeros.dropna(inplace=True)\n"
      ],
      "metadata": {
        "id": "6Gd1kcKZ6fkg"
      },
      "execution_count": 7,
      "outputs": []
    },
    {
      "cell_type": "code",
      "source": [
        "# mostrar encabezado\n"
      ],
      "metadata": {
        "id": "qEFSF5nA5DQn"
      },
      "execution_count": null,
      "outputs": []
    },
    {
      "cell_type": "code",
      "source": [
        "#graficar series\n"
      ],
      "metadata": {
        "id": "aJmMdk7a6xcl"
      },
      "execution_count": null,
      "outputs": []
    },
    {
      "cell_type": "code",
      "source": [
        "## result = seasonal_decompose(serie, model='mult' o 'ad')  \n",
        "## result.plot()\n",
        "\n"
      ],
      "metadata": {
        "id": "7nhfz_Ea6zy9"
      },
      "execution_count": null,
      "outputs": []
    }
  ]
}